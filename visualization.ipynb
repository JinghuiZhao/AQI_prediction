{
 "cells": [
  {
   "cell_type": "code",
   "execution_count": 112,
   "metadata": {
    "ExecuteTime": {
     "end_time": "2019-01-18T07:39:05.253098Z",
     "start_time": "2019-01-18T07:39:05.205614Z"
    }
   },
   "outputs": [],
   "source": [
    "import pandas as pd\n",
    "import plotly.plotly as py\n",
    "import plotly.figure_factory as ff\n",
    "import numpy as np\n",
    "from pyspark.sql import Row\n",
    "from datetime import datetime\n",
    "from pyspark.sql.functions import *\n",
    "from pyspark import SparkContext, SparkConf\n",
    "from pyspark.sql import SparkSession\n",
    "from pyspark.sql import Row\n",
    "from pyspark.sql.types import *\n",
    "from pyspark.sql import SQLContext\n",
    "from pyspark.ml.feature import VectorAssembler\n",
    "from pyspark.ml.evaluation import MulticlassClassificationEvaluator\n",
    "from pyspark.ml.classification import RandomForestClassifier\n",
    "from pyspark.ml.feature import StringIndexer\n",
    "from pyspark.ml.feature import OneHotEncoder\n",
    "from pyspark.sql.window import Window"
   ]
  },
  {
   "cell_type": "code",
   "execution_count": 72,
   "metadata": {
    "ExecuteTime": {
     "end_time": "2019-01-17T20:10:51.895689Z",
     "start_time": "2019-01-17T20:10:51.662026Z"
    }
   },
   "outputs": [],
   "source": [
    "#df_monitors = pd.read_csv('/Users/jessica/data/aqi_site/aqs_monitors.csv')\n",
    "df_site = pd.read_csv('/Users/jessica/data/aqi_site/aqs_sites.csv')\n",
    "annual_aqi_county_18 = pd.read_csv('/Users/jessica/data/aqi_site/annual_aqi_by_county_2018.csv')\n"
   ]
  },
  {
   "cell_type": "code",
   "execution_count": 73,
   "metadata": {
    "ExecuteTime": {
     "end_time": "2019-01-17T20:11:03.084408Z",
     "start_time": "2019-01-17T20:11:03.078643Z"
    }
   },
   "outputs": [],
   "source": [
    "import os\n",
    "pyspark_submit_args = '--packages org.mongodb.spark:mongo-spark-connector_2.11:2.4.0 pyspark-shell'\n",
    "os.environ[\"PYSPARK_SUBMIT_ARGS\"] = pyspark_submit_args"
   ]
  },
  {
   "cell_type": "code",
   "execution_count": 113,
   "metadata": {
    "ExecuteTime": {
     "end_time": "2019-01-18T07:39:08.517004Z",
     "start_time": "2019-01-18T07:39:08.512672Z"
    }
   },
   "outputs": [],
   "source": [
    "sc = SparkContext.getOrCreate()\n",
    "sqlcontext = SQLContext(sc)\n",
    "schema = StructType([StructField(\"state_code\", StringType()),\n",
    "                     StructField(\"date_local\", DateType())])\n",
    "def project(doc):\n",
    "    return {\"state_code\": str(doc[\"firstname\"]), \n",
    "            \"date_local\": date_time(doc[\"lastname\"]), \n",
    "            \"description\": str(doc[\"description\"])}"
   ]
  },
  {
   "cell_type": "code",
   "execution_count": 2,
   "metadata": {
    "ExecuteTime": {
     "end_time": "2019-01-17T07:44:29.174607Z",
     "start_time": "2019-01-17T07:44:22.840005Z"
    }
   },
   "outputs": [],
   "source": [
    "from pyspark.sql import SparkSession\n",
    "\n",
    "spark = SparkSession \\\n",
    "    .builder \\\n",
    "    .appName(\"ex14\") \\\n",
    "    .config(\"spark.mongodb.input.uri\", \"mongodb://54.186.55.238/mydb.air\")\\\n",
    "    .getOrCreate()"
   ]
  },
  {
   "cell_type": "code",
   "execution_count": 76,
   "metadata": {
    "ExecuteTime": {
     "end_time": "2019-01-17T20:14:34.916693Z",
     "start_time": "2019-01-17T20:14:34.910096Z"
    }
   },
   "outputs": [],
   "source": [
    "from pyspark.sql import SparkSession\n",
    "\n",
    "spark = SparkSession \\\n",
    "    .builder \\\n",
    "    .appName(\"ex14\") \\\n",
    "    .config(\"spark.mongodb.input.uri\", \"mongodb://127.0.0.1/mydb.air\")\\\n",
    "    .getOrCreate()"
   ]
  },
  {
   "cell_type": "code",
   "execution_count": 77,
   "metadata": {
    "ExecuteTime": {
     "end_time": "2019-01-17T20:14:35.721141Z",
     "start_time": "2019-01-17T20:14:35.417147Z"
    }
   },
   "outputs": [],
   "source": [
    "df = spark.read.format(\"com.mongodb.spark.sql.DefaultSource\").load()"
   ]
  },
  {
   "cell_type": "code",
   "execution_count": 6,
   "metadata": {
    "ExecuteTime": {
     "end_time": "2019-01-18T22:49:43.952152Z",
     "start_time": "2019-01-18T22:49:42.017384Z"
    }
   },
   "outputs": [],
   "source": [
    "import plotly\n",
    "import plotly.graph_objs as go"
   ]
  },
  {
   "cell_type": "code",
   "execution_count": 16,
   "metadata": {
    "ExecuteTime": {
     "end_time": "2019-01-17T08:03:59.273259Z",
     "start_time": "2019-01-17T08:03:59.267003Z"
    }
   },
   "outputs": [],
   "source": [
    "plotly.tools.set_credentials_file(username = 'only19791214',api_key = 'use your own api key')\n",
    "mapbox_access_token = 'use your own token'"
   ]
  },
  {
   "cell_type": "code",
   "execution_count": 26,
   "metadata": {
    "ExecuteTime": {
     "end_time": "2019-01-17T08:15:38.790423Z",
     "start_time": "2019-01-17T08:15:36.098933Z"
    }
   },
   "outputs": [
    {
     "data": {
      "text/html": [
       "<iframe id=\"igraph\" scrolling=\"no\" style=\"border:none;\" seamless=\"seamless\" src=\"https://plot.ly/~only19791214/4.embed\" height=\"525px\" width=\"100%\"></iframe>"
      ],
      "text/plain": [
       "<plotly.tools.PlotlyDisplay object>"
      ]
     },
     "execution_count": 26,
     "metadata": {},
     "output_type": "execute_result"
    }
   ],
   "source": [
    "data = [\n",
    "    go.Scattermapbox(\n",
    "        lat=df_site['Latitude'],\n",
    "        lon=df_site['Longitude'],\n",
    "        mode='markers',\n",
    "        marker=dict(\n",
    "            size=4,\n",
    "            color='green'\n",
    "        ),\n",
    "        text=df_site['CBSA Name'],\n",
    "    )\n",
    "]\n",
    "\n",
    "layout = go.Layout(\n",
    "    autosize=True,\n",
    "    hovermode='closest',\n",
    "    mapbox=dict(\n",
    "        accesstoken=mapbox_access_token,\n",
    "        bearing=0,\n",
    "        center=dict(\n",
    "            lat=37.0902,\n",
    "            lon=-95.7129\n",
    "        ),\n",
    "        pitch=0,\n",
    "        zoom=2.5\n",
    "    ),\n",
    ")\n",
    "\n",
    "fig = dict(data=data, layout=layout)\n",
    "py.iplot(fig, filename='Sites')"
   ]
  },
  {
   "cell_type": "code",
   "execution_count": 12,
   "metadata": {
    "ExecuteTime": {
     "end_time": "2019-01-18T23:23:18.542504Z",
     "start_time": "2019-01-18T23:23:16.752327Z"
    }
   },
   "outputs": [
    {
     "data": {
      "text/html": [
       "<iframe id=\"igraph\" scrolling=\"no\" style=\"border:none;\" seamless=\"seamless\" src=\"https://plot.ly/~only19791214/10.embed\" height=\"525px\" width=\"100%\"></iframe>"
      ],
      "text/plain": [
       "<plotly.tools.PlotlyDisplay object>"
      ]
     },
     "execution_count": 12,
     "metadata": {},
     "output_type": "execute_result"
    }
   ],
   "source": [
    "import plotly.plotly as py\n",
    "import plotly.graph_objs as go\n",
    "\n",
    "trace1 = go.Bar(\n",
    "    x=['RF10tree', 'RF50tree', 'RF100tree', 'GBT'],\n",
    "    y=[51.4, 52.6, 70.3, 91.6],\n",
    "    name='CPU time m4.xlarge * 6'\n",
    ")\n",
    "trace2 = go.Bar(\n",
    "    x=['RF10tree', 'RF50tree', 'RF100tree', 'GBT'],\n",
    "    y=[47.8, 77, 121, 121],\n",
    "    name= 'CPU time m4.large * 3'\n",
    ")\n",
    "\n",
    "data = [trace1, trace2]\n",
    "layout = go.Layout(\n",
    "    barmode='group'\n",
    ")\n",
    "\n",
    "fig = go.Figure(data=data, layout=layout)\n",
    "py.iplot(fig, filename='grouped-bar')"
   ]
  },
  {
   "cell_type": "code",
   "execution_count": null,
   "metadata": {},
   "outputs": [],
   "source": []
  }
 ],
 "metadata": {
  "kernelspec": {
   "display_name": "Python 3",
   "language": "python",
   "name": "python3"
  },
  "language_info": {
   "codemirror_mode": {
    "name": "ipython",
    "version": 3
   },
   "file_extension": ".py",
   "mimetype": "text/x-python",
   "name": "python",
   "nbconvert_exporter": "python",
   "pygments_lexer": "ipython3",
   "version": "3.6.6"
  }
 },
 "nbformat": 4,
 "nbformat_minor": 2
}
